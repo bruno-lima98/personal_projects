{
 "cells": [
  {
   "cell_type": "markdown",
   "id": "72cabbbe",
   "metadata": {},
   "source": [
    "### **1. Libraries and Configurations**\n",
    "----"
   ]
  },
  {
   "cell_type": "code",
   "execution_count": 119,
   "id": "94ad7778",
   "metadata": {},
   "outputs": [],
   "source": [
    "import pandas as pd\n",
    "import numpy as np\n",
    "import matplotlib.pyplot as plt\n",
    "import seaborn as sns"
   ]
  },
  {
   "cell_type": "code",
   "execution_count": 120,
   "id": "a94902a7",
   "metadata": {},
   "outputs": [],
   "source": [
    "pd.set_option('display.max_rows', None)\n",
    "pd.set_option('display.max_columns', None)"
   ]
  },
  {
   "cell_type": "markdown",
   "id": "91ee31e8",
   "metadata": {},
   "source": [
    "### **2. Importing Dataset**\n",
    "----"
   ]
  },
  {
   "cell_type": "code",
   "execution_count": 121,
   "id": "29949fe7",
   "metadata": {},
   "outputs": [
    {
     "data": {
      "text/html": [
       "<div>\n",
       "<style scoped>\n",
       "    .dataframe tbody tr th:only-of-type {\n",
       "        vertical-align: middle;\n",
       "    }\n",
       "\n",
       "    .dataframe tbody tr th {\n",
       "        vertical-align: top;\n",
       "    }\n",
       "\n",
       "    .dataframe thead th {\n",
       "        text-align: right;\n",
       "    }\n",
       "</style>\n",
       "<table border=\"1\" class=\"dataframe\">\n",
       "  <thead>\n",
       "    <tr style=\"text-align: right;\">\n",
       "      <th></th>\n",
       "      <th>name</th>\n",
       "      <th>category_list</th>\n",
       "      <th>funding_total_usd</th>\n",
       "      <th>status</th>\n",
       "      <th>country_code</th>\n",
       "      <th>state_code</th>\n",
       "      <th>city</th>\n",
       "      <th>funding_rounds</th>\n",
       "      <th>Investors</th>\n",
       "      <th>Number_of_Investors</th>\n",
       "      <th>Acquirer</th>\n",
       "      <th>Acquirer_Category</th>\n",
       "      <th>Acquirer_Country</th>\n",
       "      <th>Acquirer_State</th>\n",
       "      <th>Acquirer_City</th>\n",
       "      <th>Acquired_Price</th>\n",
       "      <th>Acquired Currency</th>\n",
       "      <th>county</th>\n",
       "      <th>founded_at</th>\n",
       "      <th>Coordinates</th>\n",
       "    </tr>\n",
       "  </thead>\n",
       "  <tbody>\n",
       "    <tr>\n",
       "      <th>0</th>\n",
       "      <td>H2O.ai</td>\n",
       "      <td>Software</td>\n",
       "      <td>33.600000</td>\n",
       "      <td>operating</td>\n",
       "      <td>USA</td>\n",
       "      <td>CA</td>\n",
       "      <td>Mountain View</td>\n",
       "      <td>4.0</td>\n",
       "      <td>Capital One:20000000|Nexus Venture Partners:33...</td>\n",
       "      <td>11.0</td>\n",
       "      <td>-</td>\n",
       "      <td>-</td>\n",
       "      <td>-</td>\n",
       "      <td>-</td>\n",
       "      <td>-</td>\n",
       "      <td>-</td>\n",
       "      <td>-</td>\n",
       "      <td>Santa Clara</td>\n",
       "      <td>2011</td>\n",
       "      <td>37.399364:-122.079517</td>\n",
       "    </tr>\n",
       "    <tr>\n",
       "      <th>1</th>\n",
       "      <td>One Inc.</td>\n",
       "      <td>Mobile</td>\n",
       "      <td>1.150050</td>\n",
       "      <td>operating</td>\n",
       "      <td>USA</td>\n",
       "      <td>CA</td>\n",
       "      <td>San Francisco</td>\n",
       "      <td>3.0</td>\n",
       "      <td>Camp One Ventures:150000|CRV:1000050|General C...</td>\n",
       "      <td>12.0</td>\n",
       "      <td>-</td>\n",
       "      <td>-</td>\n",
       "      <td>-</td>\n",
       "      <td>-</td>\n",
       "      <td>-</td>\n",
       "      <td>-</td>\n",
       "      <td>-</td>\n",
       "      <td>San Francisco</td>\n",
       "      <td>2011</td>\n",
       "      <td>37.727239:-123.032229</td>\n",
       "    </tr>\n",
       "    <tr>\n",
       "      <th>2</th>\n",
       "      <td>1000 Corks</td>\n",
       "      <td>Software</td>\n",
       "      <td>0.040000</td>\n",
       "      <td>operating</td>\n",
       "      <td>USA</td>\n",
       "      <td>OR</td>\n",
       "      <td>Lake Oswego</td>\n",
       "      <td>1.0</td>\n",
       "      <td>Start-Up Chile:40000</td>\n",
       "      <td>1.0</td>\n",
       "      <td>-</td>\n",
       "      <td>-</td>\n",
       "      <td>-</td>\n",
       "      <td>-</td>\n",
       "      <td>-</td>\n",
       "      <td>-</td>\n",
       "      <td>-</td>\n",
       "      <td>Clackamas</td>\n",
       "      <td>2008</td>\n",
       "      <td>45.412305:-122.699154</td>\n",
       "    </tr>\n",
       "    <tr>\n",
       "      <th>3</th>\n",
       "      <td>1000museums.com</td>\n",
       "      <td>Software</td>\n",
       "      <td>6.795451</td>\n",
       "      <td>operating</td>\n",
       "      <td>USA</td>\n",
       "      <td>MA</td>\n",
       "      <td>Lenox</td>\n",
       "      <td>9.0</td>\n",
       "      <td>Alliance of Angels:1289879.0|Converge Venture ...</td>\n",
       "      <td>7.0</td>\n",
       "      <td>-</td>\n",
       "      <td>-</td>\n",
       "      <td>-</td>\n",
       "      <td>-</td>\n",
       "      <td>-</td>\n",
       "      <td>-</td>\n",
       "      <td>-</td>\n",
       "      <td>Berkshire</td>\n",
       "      <td>2008</td>\n",
       "      <td>42.361228:-73.286788</td>\n",
       "    </tr>\n",
       "    <tr>\n",
       "      <th>4</th>\n",
       "      <td>Redox</td>\n",
       "      <td>Health</td>\n",
       "      <td>4.000000</td>\n",
       "      <td>operating</td>\n",
       "      <td>USA</td>\n",
       "      <td>WI</td>\n",
       "      <td>Madison</td>\n",
       "      <td>2.0</td>\n",
       "      <td>.406 Ventures:3530000|DreamIt Ventures:470000|...</td>\n",
       "      <td>6.0</td>\n",
       "      <td>-</td>\n",
       "      <td>-</td>\n",
       "      <td>-</td>\n",
       "      <td>-</td>\n",
       "      <td>-</td>\n",
       "      <td>-</td>\n",
       "      <td>-</td>\n",
       "      <td>Dane</td>\n",
       "      <td>2014</td>\n",
       "      <td>43.087806:-89.430121</td>\n",
       "    </tr>\n",
       "  </tbody>\n",
       "</table>\n",
       "</div>"
      ],
      "text/plain": [
       "              name category_list  funding_total_usd     status country_code  \\\n",
       "0           H2O.ai      Software          33.600000  operating          USA   \n",
       "1         One Inc.        Mobile           1.150050  operating          USA   \n",
       "2       1000 Corks      Software           0.040000  operating          USA   \n",
       "3  1000museums.com      Software           6.795451  operating          USA   \n",
       "4            Redox        Health           4.000000  operating          USA   \n",
       "\n",
       "  state_code           city  funding_rounds  \\\n",
       "0         CA  Mountain View             4.0   \n",
       "1         CA  San Francisco             3.0   \n",
       "2         OR    Lake Oswego             1.0   \n",
       "3         MA          Lenox             9.0   \n",
       "4         WI        Madison             2.0   \n",
       "\n",
       "                                           Investors  Number_of_Investors  \\\n",
       "0  Capital One:20000000|Nexus Venture Partners:33...                 11.0   \n",
       "1  Camp One Ventures:150000|CRV:1000050|General C...                 12.0   \n",
       "2                               Start-Up Chile:40000                  1.0   \n",
       "3  Alliance of Angels:1289879.0|Converge Venture ...                  7.0   \n",
       "4  .406 Ventures:3530000|DreamIt Ventures:470000|...                  6.0   \n",
       "\n",
       "  Acquirer Acquirer_Category Acquirer_Country Acquirer_State Acquirer_City  \\\n",
       "0        -                 -                -              -             -   \n",
       "1        -                 -                -              -             -   \n",
       "2        -                 -                -              -             -   \n",
       "3        -                 -                -              -             -   \n",
       "4        -                 -                -              -             -   \n",
       "\n",
       "  Acquired_Price Acquired Currency         county founded_at  \\\n",
       "0              -                 -    Santa Clara       2011   \n",
       "1              -                 -  San Francisco       2011   \n",
       "2              -                 -      Clackamas       2008   \n",
       "3              -                 -      Berkshire       2008   \n",
       "4              -                 -           Dane       2014   \n",
       "\n",
       "             Coordinates  \n",
       "0  37.399364:-122.079517  \n",
       "1  37.727239:-123.032229  \n",
       "2  45.412305:-122.699154  \n",
       "3   42.361228:-73.286788  \n",
       "4   43.087806:-89.430121  "
      ]
     },
     "execution_count": 121,
     "metadata": {},
     "output_type": "execute_result"
    }
   ],
   "source": [
    "df = pd.read_csv('startup_failure_prediction.csv')\n",
    "df.head()"
   ]
  },
  {
   "cell_type": "markdown",
   "id": "3ce09782",
   "metadata": {},
   "source": [
    "### **3. Dataset Validation**\n",
    "----"
   ]
  },
  {
   "cell_type": "code",
   "execution_count": 122,
   "id": "26c86b82",
   "metadata": {},
   "outputs": [
    {
     "name": "stdout",
     "output_type": "stream",
     "text": [
      "The dataset have 20 columns and 13732 rows.\n"
     ]
    }
   ],
   "source": [
    "print(f'The dataset have {df.shape[1]} columns and {df.shape[0]} rows.')"
   ]
  },
  {
   "cell_type": "code",
   "execution_count": 123,
   "id": "a38bc813",
   "metadata": {},
   "outputs": [],
   "source": [
    "df.columns = df.columns.str.strip().str.lower().str.replace(' ', '_')"
   ]
  },
  {
   "cell_type": "code",
   "execution_count": 124,
   "id": "a925a5a1",
   "metadata": {},
   "outputs": [],
   "source": [
    "# Let's drop the non-usable columns\n",
    "\n",
    "drop = [\n",
    "    'name', 'investors', 'acquirer', 'acquirer_category', 'acquirer_country', 'acquirer_state', \n",
    "    'acquirer_city', 'acquired_price', 'acquired_currency', 'coordinates', 'county',\n",
    "    'country_code', 'city' # << I put this columns here after categorical analysis\n",
    "    ]\n",
    "\n",
    "for col in drop:\n",
    "    if col in df.columns:\n",
    "        df.drop(columns=col, inplace=True)"
   ]
  },
  {
   "cell_type": "code",
   "execution_count": 125,
   "id": "5591c41e",
   "metadata": {},
   "outputs": [
    {
     "data": {
      "text/plain": [
       "category_list          19\n",
       "funding_total_usd      19\n",
       "status                 19\n",
       "state_code             19\n",
       "funding_rounds         19\n",
       "number_of_investors    19\n",
       "founded_at             19\n",
       "dtype: int64"
      ]
     },
     "execution_count": 125,
     "metadata": {},
     "output_type": "execute_result"
    }
   ],
   "source": [
    "df.isnull().sum()"
   ]
  },
  {
   "cell_type": "code",
   "execution_count": 126,
   "id": "ee3658bc",
   "metadata": {},
   "outputs": [
    {
     "name": "stdout",
     "output_type": "stream",
     "text": [
      "The dataset have 7 columns and 13732 rows.\n",
      "\n"
     ]
    }
   ],
   "source": [
    "print(f'The dataset have {df.shape[1]} columns and {df.shape[0]} rows.\\n')"
   ]
  },
  {
   "cell_type": "code",
   "execution_count": 127,
   "id": "7a05ee94",
   "metadata": {},
   "outputs": [],
   "source": [
    "# Converting fouded_at to datetime and discovering the age of startup\n",
    "df['founded_at'] = pd.to_datetime(df['founded_at'], errors='coerce')\n",
    "\n",
    "current_year = pd.Timestamp.now().year\n",
    "df['startup_age'] = current_year - df['founded_at'].dt.year\n",
    "\n",
    "df.drop(columns='founded_at', inplace=True)"
   ]
  },
  {
   "cell_type": "code",
   "execution_count": 128,
   "id": "dee070de",
   "metadata": {},
   "outputs": [
    {
     "name": "stdout",
     "output_type": "stream",
     "text": [
      "Categorical columns: ['category_list', 'state_code']\n",
      "Numerical columns: ['funding_total_usd', 'funding_rounds', 'number_of_investors', 'startup_age']\n"
     ]
    }
   ],
   "source": [
    "categorical = []\n",
    "numerical = []\n",
    "\n",
    "for col in df.columns:\n",
    "    if col == 'status' or col == 'founded_at':\n",
    "        continue\n",
    "    if df[col].dtype == 'object':\n",
    "        categorical.append(col)\n",
    "    else:\n",
    "        numerical.append(col)\n",
    "\n",
    "print(\"Categorical columns:\", categorical)\n",
    "print(\"Numerical columns:\", numerical)\n"
   ]
  },
  {
   "cell_type": "code",
   "execution_count": 129,
   "id": "9fd651e3",
   "metadata": {},
   "outputs": [],
   "source": [
    "# Treating null-columns\n",
    "\n",
    "for col in numerical:\n",
    "    df[col] = df[col].fillna(df[col].mean())"
   ]
  },
  {
   "cell_type": "code",
   "execution_count": 130,
   "id": "16fee045",
   "metadata": {},
   "outputs": [
    {
     "name": "stdout",
     "output_type": "stream",
     "text": [
      "The dataset have 7 columns and 13713 rows.\n",
      "\n"
     ]
    }
   ],
   "source": [
    "df.dropna(inplace=True)\n",
    "print(f'The dataset have {df.shape[1]} columns and {df.shape[0]} rows.\\n')"
   ]
  },
  {
   "cell_type": "markdown",
   "id": "ad0c500b",
   "metadata": {},
   "source": [
    "### **4. Exploration Data Analysis (EDA)**\n",
    "----"
   ]
  },
  {
   "cell_type": "markdown",
   "id": "dc8755d3",
   "metadata": {},
   "source": [
    "#### 4.1 Target Variable"
   ]
  },
  {
   "cell_type": "code",
   "execution_count": 131,
   "id": "f844e865",
   "metadata": {},
   "outputs": [
    {
     "name": "stdout",
     "output_type": "stream",
     "text": [
      "Target: status.\n",
      "- Number of Categories: 4.\n",
      "- Categories: ['operating' 'acquired' 'closed' 'ipo'].\n"
     ]
    }
   ],
   "source": [
    "print(f'Target: status.')\n",
    "print(f'- Number of Categories: {df['status'].nunique()}.')\n",
    "print(f'- Categories: {df['status'].unique()}.')"
   ]
  },
  {
   "cell_type": "code",
   "execution_count": 132,
   "id": "77391189",
   "metadata": {},
   "outputs": [
    {
     "name": "stdout",
     "output_type": "stream",
     "text": [
      "status_binary\n",
      "0    0.92\n",
      "1    0.08\n",
      "Name: proportion, dtype: float64\n"
     ]
    }
   ],
   "source": [
    "df['status_binary'] = df['status'].apply(lambda x: 1 if x == 'closed' else 0)\n",
    "df.drop(columns='status', inplace=True)\n",
    "\n",
    "print(df['status_binary'].value_counts(normalize=True).round(2))"
   ]
  },
  {
   "cell_type": "markdown",
   "id": "2b1ade88",
   "metadata": {},
   "source": [
    "#### 4.2. Categorical Features"
   ]
  },
  {
   "cell_type": "code",
   "execution_count": 133,
   "id": "32efa419",
   "metadata": {},
   "outputs": [],
   "source": [
    "for col in categorical:\n",
    "    df[col] = df[col].str.strip().str.lower().str.replace(' ', '_')"
   ]
  },
  {
   "cell_type": "code",
   "execution_count": 134,
   "id": "ea275500",
   "metadata": {},
   "outputs": [
    {
     "name": "stdout",
     "output_type": "stream",
     "text": [
      "Feature: category_list.\n",
      "- Number of Categories: 26.\n",
      "- Categories: ['software' 'mobile' 'health' 'finance' 'technology' 'manufacturing'\n",
      " 'marketing' 'entertainment' 'education' 'hardware' 'services' 'games'\n",
      " 'management' 'food' 'sports' 'travel' 'automation' 'business'\n",
      " 'employment' 'communication' 'pharmaceuticals' 'style' 'entrepreneur'\n",
      " 'industrial' 'gadget' 'construction'].\n",
      "Feature: state_code.\n",
      "- Number of Categories: 51.\n",
      "- Categories: ['ca' 'or' 'ma' 'wi' 'ny' 'ri' 'ia' 'dc' 'nh' 'fl' 'md' 'ga' 'co' 'oh'\n",
      " 'wa' 'nj' 'pa' 'sc' 'ct' 'va' 'tx' 'nc' 'in' 'il' 'mi' 'mn' 'tn' 'ut'\n",
      " 'ar' 'hi' 'mo' 'ne' 'az' 'ks' 'me' 'ky' 'la' 'id' 'nd' 'vt' 'nm' 'ok'\n",
      " 'ms' 'mt' 'ak' 'al' 'nv' 'de' 'sd' 'wy' 'wv'].\n"
     ]
    }
   ],
   "source": [
    "for col in categorical:\n",
    "    print(f'Feature: {col}.')\n",
    "    print(f'- Number of Categories: {df[col].nunique()}.')\n",
    "    print(f'- Categories: {df[col].unique()}.')"
   ]
  },
  {
   "cell_type": "code",
   "execution_count": 135,
   "id": "294bbd80",
   "metadata": {},
   "outputs": [
    {
     "name": "stdout",
     "output_type": "stream",
     "text": [
      "\n",
      "Column: category_list\n",
      "      category_list  count  percent [%]\n",
      "0          software   4773        34.81\n",
      "1        technology   1540        11.23\n",
      "2          services   1088         7.93\n",
      "3           finance   1073         7.82\n",
      "4         marketing   1023         7.46\n",
      "5            health    805         5.87\n",
      "6     manufacturing    654         4.77\n",
      "7         education    522         3.81\n",
      "8     entertainment    497         3.62\n",
      "9            mobile    477         3.48\n",
      "10         hardware    373         2.72\n",
      "11            games    242         1.76\n",
      "12    communication    120         0.88\n",
      "13       management    108         0.79\n",
      "14           sports    108         0.79\n",
      "15             food     81         0.59\n",
      "16         business     65         0.47\n",
      "17           travel     57         0.42\n",
      "18       automation     37         0.27\n",
      "19  pharmaceuticals     18         0.13\n",
      "20     construction     18         0.13\n",
      "21       employment     13         0.09\n",
      "22            style     11         0.08\n",
      "23       industrial      5         0.04\n",
      "24     entrepreneur      4         0.03\n",
      "25           gadget      1         0.01\n",
      "\n",
      "Column: state_code\n",
      "   state_code  count  percent [%]\n",
      "0          ca   5741        41.87\n",
      "1          ny   1645        12.00\n",
      "2          ma   1078         7.86\n",
      "3          tx    596         4.35\n",
      "4          wa    499         3.64\n",
      "5          il    377         2.75\n",
      "6          pa    331         2.41\n",
      "7          co    297         2.17\n",
      "8          oh    247         1.80\n",
      "9          va    222         1.62\n",
      "10         fl    220         1.60\n",
      "11         ga    210         1.53\n",
      "12         md    202         1.47\n",
      "13         nc    195         1.42\n",
      "14         tn    180         1.31\n",
      "15         nj    172         1.25\n",
      "16         or    130         0.95\n",
      "17         ut    130         0.95\n",
      "18         ct    122         0.89\n",
      "19         mi    121         0.88\n",
      "20         mn    118         0.86\n",
      "21         dc     94         0.69\n",
      "22         az     89         0.65\n",
      "23         wi     83         0.61\n",
      "24         in     74         0.54\n",
      "25         nv     53         0.39\n",
      "26         ri     51         0.37\n",
      "27         nh     43         0.31\n",
      "28         ne     43         0.31\n",
      "29         mo     33         0.24\n",
      "30         ky     28         0.20\n",
      "31         de     28         0.20\n",
      "32         sc     27         0.20\n",
      "33         ks     25         0.18\n",
      "34         ia     23         0.17\n",
      "35         ar     23         0.17\n",
      "36         ok     23         0.17\n",
      "37         nm     22         0.16\n",
      "38         hi     20         0.15\n",
      "39         la     18         0.13\n",
      "40         vt     17         0.12\n",
      "41         id     13         0.09\n",
      "42         me     11         0.08\n",
      "43         mt     11         0.08\n",
      "44         al      8         0.06\n",
      "45         nd      5         0.04\n",
      "46         ms      4         0.03\n",
      "47         ak      3         0.02\n",
      "48         wy      3         0.02\n",
      "49         wv      3         0.02\n",
      "50         sd      2         0.01\n"
     ]
    }
   ],
   "source": [
    "for col in categorical:\n",
    "    print(f\"\\nColumn: {col}\")\n",
    "    freq_table = df[col].value_counts().reset_index()\n",
    "    freq_table.columns = [col, 'count']\n",
    "    freq_table['percent [%]'] = (freq_table['count'] / freq_table['count'].sum() * 100).round(2)\n",
    "    print(freq_table)\n",
    "\n",
    "# Here I discovered two important things:\n",
    "# 1 - All startups are from the USA, so I will drop this column.\n",
    "# 2 - There are many cities, which would create high cardinality, so I will drop this column as well."
   ]
  },
  {
   "cell_type": "code",
   "execution_count": 136,
   "id": "b1f43fa7",
   "metadata": {},
   "outputs": [
    {
     "name": "stdout",
     "output_type": "stream",
     "text": [
      "\n",
      "Column: category_list\n",
      "status_binary         0      1\n",
      "category_list                 \n",
      "automation        97.30   2.70\n",
      "business          95.38   4.62\n",
      "communication     94.17   5.83\n",
      "construction      94.44   5.56\n",
      "education         96.55   3.45\n",
      "employment        84.62  15.38\n",
      "entertainment     86.72  13.28\n",
      "entrepreneur     100.00   0.00\n",
      "finance           93.66   6.34\n",
      "food              97.53   2.47\n",
      "gadget           100.00   0.00\n",
      "games             87.19  12.81\n",
      "hardware          90.88   9.12\n",
      "health            95.03   4.97\n",
      "industrial       100.00   0.00\n",
      "management        94.44   5.56\n",
      "manufacturing     91.74   8.26\n",
      "marketing         92.28   7.72\n",
      "mobile            87.84  12.16\n",
      "pharmaceuticals  100.00   0.00\n",
      "services          92.65   7.35\n",
      "software          92.10   7.90\n",
      "sports            92.59   7.41\n",
      "style            100.00   0.00\n",
      "technology        94.35   5.65\n",
      "travel            85.96  14.04\n",
      "All               92.49   7.51\n",
      "\n",
      "Column: state_code\n",
      "status_binary       0      1\n",
      "state_code                  \n",
      "ak             100.00   0.00\n",
      "al              87.50  12.50\n",
      "ar              95.65   4.35\n",
      "az              91.01   8.99\n",
      "ca              91.34   8.66\n",
      "co              93.60   6.40\n",
      "ct              89.34  10.66\n",
      "dc              96.81   3.19\n",
      "de              92.86   7.14\n",
      "fl              90.91   9.09\n",
      "ga              94.76   5.24\n",
      "hi             100.00   0.00\n",
      "ia              95.65   4.35\n",
      "id              84.62  15.38\n",
      "il              93.90   6.10\n",
      "in              97.30   2.70\n",
      "ks              96.00   4.00\n",
      "ky              89.29  10.71\n",
      "la             100.00   0.00\n",
      "ma              95.18   4.82\n",
      "md              94.55   5.45\n",
      "me              90.91   9.09\n",
      "mi              95.04   4.96\n",
      "mn              93.22   6.78\n",
      "mo              96.97   3.03\n",
      "ms              50.00  50.00\n",
      "mt             100.00   0.00\n",
      "nc              94.87   5.13\n",
      "nd             100.00   0.00\n",
      "ne             100.00   0.00\n",
      "nh              88.37  11.63\n",
      "nj              91.86   8.14\n",
      "nm              95.45   4.55\n",
      "nv              92.45   7.55\n",
      "ny              93.07   6.93\n",
      "oh              95.55   4.45\n",
      "ok              95.65   4.35\n",
      "or              91.54   8.46\n",
      "pa              91.24   8.76\n",
      "ri              92.16   7.84\n",
      "sc              96.30   3.70\n",
      "sd             100.00   0.00\n",
      "tn              93.89   6.11\n",
      "tx              90.94   9.06\n",
      "ut              93.85   6.15\n",
      "va              95.05   4.95\n",
      "vt              94.12   5.88\n",
      "wa              90.78   9.22\n",
      "wi              93.98   6.02\n",
      "wv              66.67  33.33\n",
      "wy             100.00   0.00\n",
      "All             92.49   7.51\n"
     ]
    }
   ],
   "source": [
    "for col in categorical:\n",
    "    print(f\"\\nColumn: {col}\")\n",
    "    cross_tab = pd.crosstab(df[col], df['status_binary'], margins=True, normalize='index') * 100\n",
    "    print(cross_tab.round(2))\n"
   ]
  },
  {
   "cell_type": "markdown",
   "id": "e0a8f5b4",
   "metadata": {},
   "source": [
    "#### 4.3. Numerical Features"
   ]
  },
  {
   "cell_type": "code",
   "execution_count": 137,
   "id": "22edb590",
   "metadata": {},
   "outputs": [
    {
     "data": {
      "text/html": [
       "<div>\n",
       "<style scoped>\n",
       "    .dataframe tbody tr th:only-of-type {\n",
       "        vertical-align: middle;\n",
       "    }\n",
       "\n",
       "    .dataframe tbody tr th {\n",
       "        vertical-align: top;\n",
       "    }\n",
       "\n",
       "    .dataframe thead th {\n",
       "        text-align: right;\n",
       "    }\n",
       "</style>\n",
       "<table border=\"1\" class=\"dataframe\">\n",
       "  <thead>\n",
       "    <tr style=\"text-align: right;\">\n",
       "      <th></th>\n",
       "      <th>count</th>\n",
       "      <th>mean</th>\n",
       "      <th>std</th>\n",
       "      <th>min</th>\n",
       "      <th>25%</th>\n",
       "      <th>50%</th>\n",
       "      <th>75%</th>\n",
       "      <th>90%</th>\n",
       "      <th>99%</th>\n",
       "      <th>max</th>\n",
       "    </tr>\n",
       "  </thead>\n",
       "  <tbody>\n",
       "    <tr>\n",
       "      <th>funding_total_usd</th>\n",
       "      <td>13713.0</td>\n",
       "      <td>33.110598</td>\n",
       "      <td>324.551445</td>\n",
       "      <td>0.01</td>\n",
       "      <td>1.281</td>\n",
       "      <td>6.3</td>\n",
       "      <td>25.0</td>\n",
       "      <td>67.4</td>\n",
       "      <td>311.619106</td>\n",
       "      <td>30079.503</td>\n",
       "    </tr>\n",
       "    <tr>\n",
       "      <th>funding_rounds</th>\n",
       "      <td>13713.0</td>\n",
       "      <td>2.622767</td>\n",
       "      <td>1.926023</td>\n",
       "      <td>1.00</td>\n",
       "      <td>1.000</td>\n",
       "      <td>2.0</td>\n",
       "      <td>3.0</td>\n",
       "      <td>5.0</td>\n",
       "      <td>10.000000</td>\n",
       "      <td>19.000</td>\n",
       "    </tr>\n",
       "    <tr>\n",
       "      <th>number_of_investors</th>\n",
       "      <td>13713.0</td>\n",
       "      <td>4.253555</td>\n",
       "      <td>4.321169</td>\n",
       "      <td>1.00</td>\n",
       "      <td>1.000</td>\n",
       "      <td>3.0</td>\n",
       "      <td>6.0</td>\n",
       "      <td>9.0</td>\n",
       "      <td>20.880000</td>\n",
       "      <td>53.000</td>\n",
       "    </tr>\n",
       "    <tr>\n",
       "      <th>startup_age</th>\n",
       "      <td>13713.0</td>\n",
       "      <td>17.455323</td>\n",
       "      <td>7.230042</td>\n",
       "      <td>10.00</td>\n",
       "      <td>13.000</td>\n",
       "      <td>15.0</td>\n",
       "      <td>20.0</td>\n",
       "      <td>25.0</td>\n",
       "      <td>41.880000</td>\n",
       "      <td>123.000</td>\n",
       "    </tr>\n",
       "  </tbody>\n",
       "</table>\n",
       "</div>"
      ],
      "text/plain": [
       "                       count       mean         std    min     25%   50%  \\\n",
       "funding_total_usd    13713.0  33.110598  324.551445   0.01   1.281   6.3   \n",
       "funding_rounds       13713.0   2.622767    1.926023   1.00   1.000   2.0   \n",
       "number_of_investors  13713.0   4.253555    4.321169   1.00   1.000   3.0   \n",
       "startup_age          13713.0  17.455323    7.230042  10.00  13.000  15.0   \n",
       "\n",
       "                      75%   90%         99%        max  \n",
       "funding_total_usd    25.0  67.4  311.619106  30079.503  \n",
       "funding_rounds        3.0   5.0   10.000000     19.000  \n",
       "number_of_investors   6.0   9.0   20.880000     53.000  \n",
       "startup_age          20.0  25.0   41.880000    123.000  "
      ]
     },
     "execution_count": 137,
     "metadata": {},
     "output_type": "execute_result"
    }
   ],
   "source": [
    "df[numerical].describe(percentiles=[0.25, 0.5, 0.75, 0.9, 0.99]).T\n",
    "\n",
    "# Here we have some outliers that where distorsing our dataset and informations.\n",
    "# So I decided to "
   ]
  },
  {
   "cell_type": "code",
   "execution_count": 138,
   "id": "a1f2638e",
   "metadata": {},
   "outputs": [
    {
     "data": {
      "image/png": "[encoded data removed]",
      "text/plain": [
       "<Figure size 1000x600 with 4 Axes>"
      ]
     },
     "metadata": {},
     "output_type": "display_data"
    }
   ],
   "source": [
    "plt.figure(figsize=(10, 6))\n",
    "\n",
    "for i, col in enumerate(numerical, 1):\n",
    "    plt.subplot(2, 2, i)\n",
    "    plt.hist(df[col], bins=30, color='skyblue', edgecolor='black')\n",
    "    plt.title(col)\n",
    "    plt.xlabel(col)\n",
    "    plt.ylabel('Frequency')\n",
    "\n",
    "plt.tight_layout()\n",
    "plt.show()\n"
   ]
  },
  {
   "cell_type": "code",
   "execution_count": 139,
   "id": "ff85bf7a",
   "metadata": {},
   "outputs": [
    {
     "data": {
      "image/png": "[encoded data removed]",
      "text/plain": [
       "<Figure size 1000x600 with 4 Axes>"
      ]
     },
     "metadata": {},
     "output_type": "display_data"
    }
   ],
   "source": [
    "# Applying log transformation to numerical variables to reduce skewness and compress the long-tail.\n",
    "# This helps to handle extreme outliers and makes distributions more suitable for modeling.\n",
    "\n",
    "plt.figure(figsize=(10, 6))\n",
    "\n",
    "for i, col in enumerate(numerical, 1):\n",
    "    plt.subplot(2, 2, i)\n",
    "    plt.hist(np.log1p(df[col]), bins=30, color='lightgreen', edgecolor='black')\n",
    "    plt.title(f'{col} (log scale)')\n",
    "    plt.xlabel(f'log({col}+1)')\n",
    "    plt.ylabel('Frequency')\n",
    "\n",
    "plt.tight_layout()\n",
    "plt.show()\n"
   ]
  },
  {
   "cell_type": "code",
   "execution_count": 140,
   "id": "317a6944",
   "metadata": {},
   "outputs": [],
   "source": [
    "# Apply log1p transformation to all numerical columns in df\n",
    "for col in numerical:\n",
    "    df[col] = np.log1p(df[col])"
   ]
  },
  {
   "cell_type": "code",
   "execution_count": 141,
   "id": "05e04e50",
   "metadata": {},
   "outputs": [
    {
     "data": {
      "text/plain": [
       "Index(['category_list', 'funding_total_usd', 'state_code', 'funding_rounds',\n",
       "       'number_of_investors', 'startup_age', 'status_binary'],\n",
       "      dtype='object')"
      ]
     },
     "execution_count": 141,
     "metadata": {},
     "output_type": "execute_result"
    }
   ],
   "source": [
    "df.columns"
   ]
  }
 ],
 "metadata": {
  "kernelspec": {
   "display_name": "Python 3",
   "language": "python",
   "name": "python3"
  },
  "language_info": {
   "codemirror_mode": {
    "name": "ipython",
    "version": 3
   },
   "file_extension": ".py",
   "mimetype": "text/x-python",
   "name": "python",
   "nbconvert_exporter": "python",
   "pygments_lexer": "ipython3",
   "version": "3.12.1"
  }
 },
 "nbformat": 4,
 "nbformat_minor": 5
}
